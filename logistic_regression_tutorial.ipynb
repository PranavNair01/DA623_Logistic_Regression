{
 "cells": [
  {
   "cell_type": "markdown",
   "metadata": {},
   "source": [
    "# Logistic Regression for Binary Classification"
   ]
  },
  {
   "cell_type": "markdown",
   "metadata": {},
   "source": [
    "As part of the coursework in DA623 (Computing with Signals) IIT Guwahati, this notebook provides a tutorial on the famous logistic regression algorithm used for classification tasks.\n",
    "\n",
    "This tutorial assumes very elementary background knowledge of the reader, and explains concepts from the basics as much as possible. However, it is highly recommended that the reader familiarizes themselves with linear regression before jumping into this tutorial."
   ]
  },
  {
   "cell_type": "markdown",
   "metadata": {},
   "source": [
    "### Introduction"
   ]
  },
  {
   "cell_type": "markdown",
   "metadata": {},
   "source": [
    "The simplest one line definition of logistic regression would be:\n",
    "\n",
    "`\"Logistic Regression is a supervised learning algorithm for classification\"`\n",
    "\n",
    "But, let's break down every term for a better understanding:\n",
    "- `supervised learning`: In machine learning, typically 3 types of tasks are encountered:\n",
    "    1. Supervised Learning\n",
    "    2. Unsupervised Learning\n",
    "    3. Reinforcement Learning\n",
    "\n",
    "    The most commonly encountered being supervised learning. In supervised learning, we are provided data ($x$) along with labels ($y$). Based on these, we aim to learn the relationship between $x$ and $y$. More formally, we try to find the best hypothesis function $\\hat{f}$ that fits the data, i.e., $y = \\hat{f}(x)$. We call $\\hat{f}$ as hypothesis function, since we assume the type of relation between $x$ and $y$, say polynomial. Note: the actual underlying relationship between $x$ and $y$ is unknown to us, and may not be the same type as the hypothesis function. This function is also called target function $f$ such that $y = f(x)$. This might've been a hyperbola instead of polynomial. We just dont know.\n",
    "\n",
    "- `classification`: The labels provided in supervised learning may be a continuous variable (eg: temperature of a city) or a discrete variable (eg: blood group types). When the labels are continuous, we call it a regression algorithm. On the other hand, when the variables are discrete, we call it a classification algorithm. In our case, we are performing binary classification, i.e., our labels are discrete and further has only 2 values (eg: male or female, true or false).\n",
    "\n",
    "Note: Logistic Regression unlike the name suggests is always a classification algorithm, not a regression algorithm."
   ]
  },
  {
   "cell_type": "markdown",
   "metadata": {},
   "source": [
    "### Hypothesis Function"
   ]
  },
  {
   "cell_type": "markdown",
   "metadata": {},
   "source": [
    "For the sake of simplicity, let us consider the case when we have 1D data ($x$). Being an instance of binary classification, these data points each would have one of the 2 labels, namely ($y = 0$ and $y = 1$).\n",
    "\n",
    "Let us try to fit a straight line, say $\\hat{y} = w_0 + w_1x$ to the given data, similar to linear regression. The situation would look something like this:\n",
    "\n",
    "<div align=\"center\">\n",
    "<img src=\"images/linear_regression.png\">\n",
    "</div>\n",
    "\n",
    "However, in our case of binary classification, we would like $y$ to be between 0 and 1. Hence, we use a sigmoid function. A sigmoid function looks as follows:\n",
    "\n",
    "<div align=\"center\">\n",
    "<img src=\"images/sigmoid_function.png\">\n",
    "</div>\n",
    "\n",
    "Hence, on setting $z = \\hat{y} = w_0 + w_1x$, we get $z \\to 1$ for large values of $\\hat{y}$, and $z \\to 0$ for small values of $\\hat{y}$. Accordingly, if $\\hat{y} = \\phi(z)$, where $z = w_0 + w_1x$ represents the hypothesis function for logistic regression on the given data $x$, we get the following:\n",
    "\n",
    "<div align=\"center\">\n",
    "<img src=\"images/logistic_regression.png\">\n",
    "</div>\n",
    "\n",
    "But again one piece of the puzzle remains left out, the labels $\\hat{y}$ must be 0 or 1, not between 0 and 1. Here comes the concept of decision boundary. More formally, the hypothesis function $\\phi(z)$ is not actually the labels $\\hat{y}$, but is the probability of a given data point being 1, i.e., $\\phi(z) = \\phi(w_0 + w_1x) = P(\\hat{y} = 1 | x)$.\n",
    "\n",
    "Thereby, we set a threshold probability, say $p_0$ also known as the decision boundary. Whenever we get $\\phi(z) \\ge p_0$ for a point $x$, we classify it as 1, i.e., $\\hat{y} = \\hat{f}(x) = 1$, else if $\\phi(z) < p_0$, we set $\\hat{y} = \\hat{f}(x) = 0$.\n",
    "\n",
    "For example, with $p_0 = 0.5$, the decision boundary looks as follows (Note: Axes are visible only in VS code light mode):\n",
    "\n",
    "<div align=\"center\">\n",
    "<img src=\"images/decision_boundary.webp\">\n",
    "</div>\n"
   ]
  },
  {
   "cell_type": "markdown",
   "metadata": {},
   "source": [
    "#### Some Interesting Facts"
   ]
  },
  {
   "cell_type": "markdown",
   "metadata": {},
   "source": [
    "Logistic Regression can be used for binary classification of multi dimensional. For example, we get the following decision boundary for 2D data, where $x1$ and $x2$ are the two dimensions, and blue circle represents label $y = 0$ and red cross represents label $y = 1$:\n",
    "\n",
    "<div align=\"center\">\n",
    "<img src=\"images/binary_2d.png\">\n",
    "</div>\n",
    "\n",
    "In fact, logistic regression can also be used to fit data points belonging to more than 3 classes. Consider a label $\\hat{y}$ can be $y_1, y_2,$ or $y_3$. Then for every data point $x$ we fit 3 decision boundaries using $p_0^1, p_0^2, p_0^3$ on hypothesis functions $\\phi_1(x), \\phi_2(x), \\phi_3(x)$, i.e., $P(y_1 = 1|x), P(y_2 = 1|x), P(y_3 = 1|x)$ respectively. Thereby, the label $\\hat{y}$ for $x$ is that with largest probability. We can visualize in 2D as follows:\n",
    "\n",
    "<div align=\"center\">\n",
    "<img src=\"images/multiclass_2d.png\">\n",
    "</div>\n",
    "\n",
    "Last but not least, logistic regression can also learn non linear decision boundaries. Suppose $z = w_0 + w_1x_1 + w_2x_2 + w_3x_1^2 + w_4x_2^2$ for 2D data, we get the following decision boundary:\n",
    "\n",
    "<div align=\"center\">\n",
    "<img src=\"images/non_linear_boundary.jpeg\">\n",
    "</div>"
   ]
  },
  {
   "cell_type": "markdown",
   "metadata": {},
   "source": [
    "Backtracking to our original problem at hand, i.e., logistic regression for binary classification, we get the following equations for computing hypothesis function and labels for n dimensional data:\n",
    "\n",
    "$$\n",
    "z = \\sum_{i=0}^n w_ix_i = w_0 + w_1x_1 + w_2x_2 + ... + w_nx_n\n",
    "$$\n",
    "\n",
    "$$\n",
    "z = \\textbf{w}^T  \\textbf{x}\n",
    "$$\n",
    "\n",
    "$$\n",
    "\\phi(z) = \\frac{1}{1 + e^{-z}} = \\frac{1}{1 + e^{-\\textbf{w}^T  \\textbf{x}}}\n",
    "$$\n",
    "\n",
    "Therefore, for $i$ th data point, say $x_i$, we get label as:\n",
    "\n",
    "$$\n",
    "\\hat{y}_i = \\hat{f}(x_i) = \\begin{cases} 1, &\\quad\\text{if }\\phi(\\textbf{w}^T  \\textbf{x}_i) \\ge p_0\\\\ 0, &\\quad\\text{if }\\phi(\\textbf{w}^T  \\textbf{x}_i) < p_0\\\\ \\end{cases}\n",
    "$$\n",
    "\n",
    "where $p_0$ is a threshold probability used to define the decision boundary."
   ]
  },
  {
   "cell_type": "markdown",
   "metadata": {},
   "source": [
    "### Cost Function"
   ]
  },
  {
   "cell_type": "markdown",
   "metadata": {},
   "source": [
    "We get different hypothesis function, and as a result different decision boundaries for different choices of weights $\\textbf{w}$. As a result, it becomes necessary to choose an appropriate $\\textbf{w}$ so that we get accurate prediction of labels by our logistic regression classifier.\n",
    "\n",
    "Consequently, we define a cost function $J(w)$ such that minimizing it leads to better accuracy.\n",
    "\n",
    "An obvious candidate for $J(w)$ is the famous root mean squared error loss function used in linear regression, i.e:\n",
    "\n",
    "$$\n",
    "Cost = J(\\textbf{w}) = \\frac{1}{2N} \\sum_{i=1}^N (y_i - \\hat{y}_i)^2\n",
    "$$\n",
    "\n",
    "where $y_i$ is the true label and $\\hat{y}_i$ in this discussion is the likelihood probability obtained using the sigmoid function by our logistic regression classifier.\n",
    "\n",
    "However, the above cost function may lead to suboptimal results during gradient descent (shortly explained ahead) due to non convexity.\n",
    "\n",
    "Consequently, we adopt the following cost function:\n",
    "\n",
    "$$\n",
    "Cost = J(\\textbf{w}) = -\\sum_{i=1}^N (y_i\\log(\\hat{y}_i) + (1 - y_i)\\log(1 - \\hat{y}_i))\n",
    "$$\n",
    "\n",
    "It can be seen that the above indeed works. \n",
    "\n",
    "When $y_i = 1$, Cost = $-\\log(\\hat{y}_i)$. Cost tends to 0 as $\\hat{y}_i$ tends to 1. Similarly, cost tends to $\\infty$ as $\\hat{y}_i$ tends to 0.\n",
    "\n",
    "When $y_i = 0$, Cost = $-\\log(1 - \\hat{y}_i)$. Cost tends to 0 as $\\hat{y}_i$ tends to 0. Similarly, cost tends to $\\infty$ as $\\hat{y}_i$ tends to 1."
   ]
  },
  {
   "cell_type": "markdown",
   "metadata": {},
   "source": [
    "<div align=\"center\">\n",
    "<img src=\"https://media.giphy.com/media/v1.Y2lkPTc5MGI3NjExMmp1dmZhcml1N2xscXZldHVnNW43d21lemNueXhzNG83MmR5OTdnNCZlcD12MV9pbnRlcm5hbF9naWZfYnlfaWQmY3Q9Zw/lPF1CyJXXcTZmUrP2J/giphy.gif\">\n",
    "</div>"
   ]
  },
  {
   "cell_type": "markdown",
   "metadata": {},
   "source": [
    "### Gradient Descent"
   ]
  },
  {
   "cell_type": "markdown",
   "metadata": {},
   "source": [
    "We are almost there! Now that we have our cost function, we would like to find weights $\\textbf{w}$ such that our cost function is minimized.\n",
    "\n",
    "The gradient descent algorithm does exactly that. A convex looks for 2D data looks as follows (ignore the axes for now):\n",
    "\n",
    "<div align=\"center\">\n",
    "<img src=\"images/convex_function.png\">\n",
    "</div>"
   ]
  },
  {
   "cell_type": "markdown",
   "metadata": {},
   "source": [
    "Such a function has only 1 local minima which is also the global minima. Now, if we take a particular point, the gradient $\\nabla\\textbf{J} = \\left[\\frac{\\partial\\textbf{J}}{\\partial w_1}, \\frac{\\partial\\textbf{J}}{\\partial w_2}\\right]$ gives the direction of steepest accent. Consequently, updating $\\textbf{w}$ in the direction of $-\\nabla\\textbf{J}$ results in the highest decrease of the cost function. So, we perform the following until we reach the global maxima:\n",
    "\n",
    "$$\n",
    "\\forall \\,i\\,\\  w_i = w_i - \\alpha\\frac{\\partial\\textbf{J}}{\\partial w_i}\n",
    "$$\n",
    "\n",
    "where $i$ is the $i$ th dimension, and we perform all updations simultaneously.\n",
    "\n",
    "In our case with our choice of the cost functiion, the gradients are:\n",
    "\n",
    "$$\n",
    "\\forall \\,i\\,\\  \\frac{\\partial\\textbf{J}}{\\partial w_i} = \\frac{1}{N}\\sum_{j=0}^N (\\phi(\\textbf{w}^Tx^{(j)}) - y^{(j)})x_i^{(j)}\n",
    "$$\n",
    "\n",
    "In the above equation $\\alpha$ represents the learning rate parameter. For small values of $\\alpha$, gradient descent requires too much time (iterations) until it converges to the global minima. On the other hand, for large values of $\\alpha$, gradient descent may result in a very big updation of $w_i$ in the direction of the global minima, that it may overshoot the minima, and result in divergence to a high value of cost.\n",
    "\n",
    "Suppose, a function is non convex, it looks something like follows:\n",
    "\n",
    "<div align=\"center\">\n",
    "<img src=\"images/non_convex_function.png\">\n",
    "</div>"
   ]
  },
  {
   "cell_type": "markdown",
   "metadata": {},
   "source": [
    "As a result different starting points may lead to different local minimas (possibly not the global minima).\n",
    "\n",
    "Hence, it was necessary to choose a different cost function for logistic regression, since root mean square error is not a convex function for logistic regression."
   ]
  },
  {
   "cell_type": "markdown",
   "metadata": {},
   "source": [
    "<div align=\"center\">\n",
    "<img src=\"https://media.giphy.com/media/v1.Y2lkPTc5MGI3NjExZmFwODNhNHJvdmw3OTl0a3Y3N2cyeXl0c2g4Z2tidm81dW93YWZxZiZlcD12MV9pbnRlcm5hbF9naWZfYnlfaWQmY3Q9Zw/Fgl9vJp70G6YJlVOHH/giphy.gif\">\n",
    "</div>"
   ]
  },
  {
   "cell_type": "markdown",
   "metadata": {},
   "source": [
    "### Implementation"
   ]
  },
  {
   "cell_type": "markdown",
   "metadata": {},
   "source": [
    "##### Importing Packages"
   ]
  },
  {
   "cell_type": "code",
   "execution_count": 1,
   "metadata": {},
   "outputs": [],
   "source": [
    "import numpy as np\n",
    "import pandas as pd\n",
    "import matplotlib.pyplot as plt\n",
    "from sklearn.datasets import load_breast_cancer\n",
    "from sklearn.model_selection import train_test_split\n",
    "from sklearn.preprocessing import StandardScaler\n",
    "from sklearn.metrics import accuracy_score, confusion_matrix"
   ]
  },
  {
   "cell_type": "markdown",
   "metadata": {},
   "source": [
    "##### Loading and Visualizing Dataset"
   ]
  },
  {
   "cell_type": "markdown",
   "metadata": {},
   "source": [
    "We use the famous breast cancer dataset of sklearn to demonstrate logistic regression. It comprises malignant and benign breast cancer data with 30 corresponding features for each data point."
   ]
  },
  {
   "cell_type": "code",
   "execution_count": 2,
   "metadata": {},
   "outputs": [
    {
     "name": "stdout",
     "output_type": "stream",
     "text": [
      "Keys available in the data:  dict_keys(['data', 'target', 'frame', 'target_names', 'DESCR', 'feature_names', 'filename', 'data_module'])\n",
      "Data Features: \n",
      " ['mean radius' 'mean texture' 'mean perimeter' 'mean area'\n",
      " 'mean smoothness' 'mean compactness' 'mean concavity'\n",
      " 'mean concave points' 'mean symmetry' 'mean fractal dimension'\n",
      " 'radius error' 'texture error' 'perimeter error' 'area error'\n",
      " 'smoothness error' 'compactness error' 'concavity error'\n",
      " 'concave points error' 'symmetry error' 'fractal dimension error'\n",
      " 'worst radius' 'worst texture' 'worst perimeter' 'worst area'\n",
      " 'worst smoothness' 'worst compactness' 'worst concavity'\n",
      " 'worst concave points' 'worst symmetry' 'worst fractal dimension']\n"
     ]
    }
   ],
   "source": [
    "data = load_breast_cancer()\n",
    "print('Keys available in the data: ', data.keys())\n",
    "print('Data Features: \\n', data.feature_names)"
   ]
  },
  {
   "cell_type": "code",
   "execution_count": 3,
   "metadata": {},
   "outputs": [
    {
     "name": "stdout",
     "output_type": "stream",
     "text": [
      "Data Shape:  (569, 31)\n",
      "No. of Samples:  569\n",
      "No. of Features:  30\n",
      "   mean radius  mean texture  mean perimeter  mean area  mean smoothness  \\\n",
      "0        17.99         10.38          122.80     1001.0          0.11840   \n",
      "1        20.57         17.77          132.90     1326.0          0.08474   \n",
      "2        19.69         21.25          130.00     1203.0          0.10960   \n",
      "3        11.42         20.38           77.58      386.1          0.14250   \n",
      "4        20.29         14.34          135.10     1297.0          0.10030   \n",
      "\n",
      "   mean compactness  mean concavity  mean concave points  mean symmetry  \\\n",
      "0           0.27760          0.3001              0.14710         0.2419   \n",
      "1           0.07864          0.0869              0.07017         0.1812   \n",
      "2           0.15990          0.1974              0.12790         0.2069   \n",
      "3           0.28390          0.2414              0.10520         0.2597   \n",
      "4           0.13280          0.1980              0.10430         0.1809   \n",
      "\n",
      "   mean fractal dimension  ...  worst texture  worst perimeter  worst area  \\\n",
      "0                 0.07871  ...          17.33           184.60      2019.0   \n",
      "1                 0.05667  ...          23.41           158.80      1956.0   \n",
      "2                 0.05999  ...          25.53           152.50      1709.0   \n",
      "3                 0.09744  ...          26.50            98.87       567.7   \n",
      "4                 0.05883  ...          16.67           152.20      1575.0   \n",
      "\n",
      "   worst smoothness  worst compactness  worst concavity  worst concave points  \\\n",
      "0            0.1622             0.6656           0.7119                0.2654   \n",
      "1            0.1238             0.1866           0.2416                0.1860   \n",
      "2            0.1444             0.4245           0.4504                0.2430   \n",
      "3            0.2098             0.8663           0.6869                0.2575   \n",
      "4            0.1374             0.2050           0.4000                0.1625   \n",
      "\n",
      "   worst symmetry  worst fractal dimension     labels  \n",
      "0          0.4601                  0.11890  malignant  \n",
      "1          0.2750                  0.08902  malignant  \n",
      "2          0.3613                  0.08758  malignant  \n",
      "3          0.6638                  0.17300  malignant  \n",
      "4          0.2364                  0.07678  malignant  \n",
      "\n",
      "[5 rows x 31 columns]\n"
     ]
    }
   ],
   "source": [
    "df = pd.DataFrame(data.data, columns=data.feature_names)\n",
    "df['labels'] =  data.target_names[data.target]\n",
    "\n",
    "print('Data Shape: ', df.shape)\n",
    "print('No. of Samples: ', df.shape[0])\n",
    "print('No. of Features: ', df.shape[1] - 1)\n",
    "\n",
    "print(df.head())"
   ]
  },
  {
   "cell_type": "code",
   "execution_count": 4,
   "metadata": {},
   "outputs": [
    {
     "name": "stdout",
     "output_type": "stream",
     "text": [
      "Total number of labels: 569\n",
      "Malignat: 357\n",
      "Benign: 212\n"
     ]
    }
   ],
   "source": [
    "print (\"Total number of labels: \" + str(df.shape[0]) + \"\\n\" + \"Malignat: \" + str(df.labels.value_counts()['benign']) + \"\\n\" + \"Benign: \" + str(df.labels.value_counts()['malignant']))"
   ]
  },
  {
   "cell_type": "code",
   "execution_count": 5,
   "metadata": {},
   "outputs": [
    {
     "name": "stdout",
     "output_type": "stream",
     "text": [
      "<class 'pandas.core.frame.DataFrame'>\n",
      "RangeIndex: 569 entries, 0 to 568\n",
      "Data columns (total 31 columns):\n",
      " #   Column                   Non-Null Count  Dtype  \n",
      "---  ------                   --------------  -----  \n",
      " 0   mean radius              569 non-null    float64\n",
      " 1   mean texture             569 non-null    float64\n",
      " 2   mean perimeter           569 non-null    float64\n",
      " 3   mean area                569 non-null    float64\n",
      " 4   mean smoothness          569 non-null    float64\n",
      " 5   mean compactness         569 non-null    float64\n",
      " 6   mean concavity           569 non-null    float64\n",
      " 7   mean concave points      569 non-null    float64\n",
      " 8   mean symmetry            569 non-null    float64\n",
      " 9   mean fractal dimension   569 non-null    float64\n",
      " 10  radius error             569 non-null    float64\n",
      " 11  texture error            569 non-null    float64\n",
      " 12  perimeter error          569 non-null    float64\n",
      " 13  area error               569 non-null    float64\n",
      " 14  smoothness error         569 non-null    float64\n",
      " 15  compactness error        569 non-null    float64\n",
      " 16  concavity error          569 non-null    float64\n",
      " 17  concave points error     569 non-null    float64\n",
      " 18  symmetry error           569 non-null    float64\n",
      " 19  fractal dimension error  569 non-null    float64\n",
      " 20  worst radius             569 non-null    float64\n",
      " 21  worst texture            569 non-null    float64\n",
      " 22  worst perimeter          569 non-null    float64\n",
      " 23  worst area               569 non-null    float64\n",
      " 24  worst smoothness         569 non-null    float64\n",
      " 25  worst compactness        569 non-null    float64\n",
      " 26  worst concavity          569 non-null    float64\n",
      " 27  worst concave points     569 non-null    float64\n",
      " 28  worst symmetry           569 non-null    float64\n",
      " 29  worst fractal dimension  569 non-null    float64\n",
      " 30  labels                   569 non-null    object \n",
      "dtypes: float64(30), object(1)\n",
      "memory usage: 137.9+ KB\n",
      "None\n"
     ]
    }
   ],
   "source": [
    "print(df.info())"
   ]
  },
  {
   "cell_type": "markdown",
   "metadata": {},
   "source": [
    "##### Data Preprocessing"
   ]
  },
  {
   "cell_type": "markdown",
   "metadata": {},
   "source": [
    "We normalize the data using `StandardScaler` to ensure that data of all features are on the same scale. This also helps gradient descent in quick convergence. It can be seen more clearly as follows:\n",
    "\n",
    "<div align=\"center\">\n",
    "<img src=\"images/scale_gradient_descent.png\">\n",
    "</div>"
   ]
  },
  {
   "cell_type": "code",
   "execution_count": 6,
   "metadata": {},
   "outputs": [],
   "source": [
    "X = data.data\n",
    "y = data.target\n",
    "scaler = StandardScaler()\n",
    "X_scaled = scaler.fit_transform(X)"
   ]
  },
  {
   "cell_type": "markdown",
   "metadata": {},
   "source": [
    "##### Data Splitting"
   ]
  },
  {
   "cell_type": "markdown",
   "metadata": {},
   "source": [
    "We split the available data for training and testing in 80:20 ratio.\n",
    "We need to keep some data aside for testing. If all data is used in training, the test error will most likely always be zero. On the other hand if too much data is kept for testing, it may lead to poor results (train error) due to very less training, i.e., the model has seen very few data points to learn the target function/true labels."
   ]
  },
  {
   "cell_type": "code",
   "execution_count": 7,
   "metadata": {},
   "outputs": [],
   "source": [
    "X_train, X_test, y_train, y_test = train_test_split(X_scaled, y, test_size=0.2, random_state=42)"
   ]
  },
  {
   "cell_type": "markdown",
   "metadata": {},
   "source": [
    "##### Model"
   ]
  },
  {
   "cell_type": "code",
   "execution_count": 8,
   "metadata": {},
   "outputs": [],
   "source": [
    "# Function to compute the sigmoid (phi) function\n",
    "def sigmoid(z):\n",
    "    return 1 / (1 + np.exp(-z))"
   ]
  },
  {
   "cell_type": "code",
   "execution_count": 9,
   "metadata": {},
   "outputs": [],
   "source": [
    "# Function to compute the cost function\n",
    "def compute_cost(X, y, weights):\n",
    "    m = len(y)\n",
    "    h = sigmoid(np.dot(X, weights))\n",
    "    cost = (-1 / m) * np.sum((y * np.log(h)) + ((1 - y) * np.log(1 - h)))\n",
    "    return cost"
   ]
  },
  {
   "cell_type": "code",
   "execution_count": 10,
   "metadata": {},
   "outputs": [],
   "source": [
    "# Function to perform gradient descent\n",
    "def gradient_descent(X, y, weights, learning_rate=0.01, num_iterations=1000):\n",
    "    m = len(y)\n",
    "    train_costs = []\n",
    "    test_costs = []\n",
    "    best_test_error = float('inf')\n",
    "    best_iteration = 0\n",
    "    best_weights = None\n",
    "\n",
    "    for i in range(num_iterations):\n",
    "        h = sigmoid(np.dot(X, weights))\n",
    "        gradient = np.dot(X.T, (h - y)) / m\n",
    "        weights -= learning_rate * gradient\n",
    "        train_cost = compute_cost(X, y, weights)\n",
    "        test_cost = compute_cost(X_test, y_test, weights)\n",
    "        train_costs.append(train_cost)\n",
    "        test_costs.append(test_cost)\n",
    "\n",
    "        if test_cost < best_test_error:\n",
    "            best_test_error = test_cost\n",
    "            best_iteration = i\n",
    "            best_weights = weights.copy()\n",
    "        \n",
    "    return best_weights, best_iteration, train_costs, test_costs"
   ]
  },
  {
   "cell_type": "code",
   "execution_count": 11,
   "metadata": {},
   "outputs": [],
   "source": [
    "# Function to predict the class labels\n",
    "def predict(X, weights, threshold=0.5):\n",
    "    predictions = sigmoid(np.dot(X, weights))\n",
    "    predictions[predictions >= threshold] = 1\n",
    "    predictions[predictions < threshold] = 0\n",
    "    return predictions"
   ]
  },
  {
   "cell_type": "markdown",
   "metadata": {},
   "source": [
    "##### Adding a term for $w_0$"
   ]
  },
  {
   "cell_type": "markdown",
   "metadata": {},
   "source": [
    "While computing $z = \\sum_{i=0}^N w_ix_i = w_0 + w_1x_1 + w_2x_2 + ... + w_nx_n$, we assume that all $x_0 = 1$. However, our dataset doesn't contain such a feature. Hence we explicitly add a column with all 1's in the data. "
   ]
  },
  {
   "cell_type": "code",
   "execution_count": 12,
   "metadata": {},
   "outputs": [
    {
     "name": "stdout",
     "output_type": "stream",
     "text": [
      "[[ 1.         -1.44798723 -0.45602336 ...  0.91959172  2.14719008\n",
      "   1.85943247]\n",
      " [ 1.          1.97750799  1.69418666 ...  2.6752184   1.9368786\n",
      "   2.46346488]\n",
      " [ 1.         -1.40708919 -1.26351565 ... -0.97048581  0.61676962\n",
      "   0.05287682]\n",
      " ...\n",
      " [ 1.          0.04621146 -0.57470379 ... -1.23756033 -0.71628161\n",
      "  -1.26047806]\n",
      " [ 1.         -0.04183295  0.07687501 ...  1.03683652  0.45013821\n",
      "   1.19444266]\n",
      " [ 1.         -0.5530585   0.28631105 ... -0.61357437 -0.33448538\n",
      "  -0.84042616]]\n"
     ]
    }
   ],
   "source": [
    "X_train = np.hstack((np.ones((X_train.shape[0], 1)), X_train))\n",
    "X_test = np.hstack((np.ones((X_test.shape[0], 1)), X_test))\n",
    "\n",
    "print(X_train)"
   ]
  },
  {
   "cell_type": "markdown",
   "metadata": {},
   "source": [
    "##### Initializing Parameters and Hyperparameters"
   ]
  },
  {
   "cell_type": "code",
   "execution_count": 13,
   "metadata": {},
   "outputs": [],
   "source": [
    "weights = np.zeros(X_train.shape[1])\n",
    "learning_rate = 0.01\n",
    "num_iterations = 1000"
   ]
  },
  {
   "cell_type": "markdown",
   "metadata": {},
   "source": [
    "##### Training of Logistic Regression Model"
   ]
  },
  {
   "cell_type": "code",
   "execution_count": 14,
   "metadata": {},
   "outputs": [],
   "source": [
    "best_weights, best_iteration, train_costs, test_costs = gradient_descent(X_train, y_train, weights, learning_rate, num_iterations)"
   ]
  },
  {
   "cell_type": "markdown",
   "metadata": {},
   "source": [
    "##### Making Predictions"
   ]
  },
  {
   "cell_type": "markdown",
   "metadata": {},
   "source": [
    "We make predictions, i.e., assign labels for the test data using the trained weight parameters for the hypothesis function with the lowest test error."
   ]
  },
  {
   "cell_type": "code",
   "execution_count": 15,
   "metadata": {},
   "outputs": [],
   "source": [
    "y_pred = predict(X_test, best_weights)"
   ]
  },
  {
   "cell_type": "markdown",
   "metadata": {},
   "source": [
    "### Results"
   ]
  },
  {
   "cell_type": "markdown",
   "metadata": {},
   "source": [
    "##### Plot of train and test errors v/s iterations"
   ]
  },
  {
   "cell_type": "code",
   "execution_count": 16,
   "metadata": {},
   "outputs": [
    {
     "name": "stdout",
     "output_type": "stream",
     "text": [
      "Iteration with Lowest Test Error: 1000\n"
     ]
    },
    {
     "data": {
      "image/png": "[encoded data removed]",
      "text/plain": [
       "<Figure size 640x480 with 1 Axes>"
      ]
     },
     "metadata": {},
     "output_type": "display_data"
    }
   ],
   "source": [
    "print('Iteration with Lowest Test Error:', best_iteration + 1)\n",
    "\n",
    "plt.plot(train_costs, label='Train Error')\n",
    "plt.plot(test_costs, label='Test Error')\n",
    "plt.xlabel('Iterations')\n",
    "plt.ylabel('Error')\n",
    "plt.title('Train and Test Error v/s Iterations')\n",
    "plt.legend()\n",
    "plt.show()"
   ]
  },
  {
   "cell_type": "markdown",
   "metadata": {},
   "source": [
    "##### Accuracy"
   ]
  },
  {
   "cell_type": "code",
   "execution_count": 17,
   "metadata": {},
   "outputs": [
    {
     "name": "stdout",
     "output_type": "stream",
     "text": [
      "Accuracy: 0.9912280701754386\n"
     ]
    }
   ],
   "source": [
    "accuracy = accuracy_score(y_test, y_pred)\n",
    "conf_matrix = confusion_matrix(y_test, y_pred)\n",
    "\n",
    "print('Accuracy:', accuracy)"
   ]
  },
  {
   "cell_type": "markdown",
   "metadata": {},
   "source": [
    "##### Confusion Matrix"
   ]
  },
  {
   "cell_type": "code",
   "execution_count": 18,
   "metadata": {},
   "outputs": [
    {
     "data": {
      "image/png": "[encoded data removed]",
      "text/plain": [
       "<Figure size 800x600 with 2 Axes>"
      ]
     },
     "metadata": {},
     "output_type": "display_data"
    }
   ],
   "source": [
    "# Plotting the confusion matrix\n",
    "plt.figure(figsize=(8, 6))\n",
    "plt.imshow(conf_matrix, interpolation='nearest', cmap=plt.cm.Blues)\n",
    "plt.title('Confusion Matrix')\n",
    "plt.colorbar()\n",
    "tick_marks = np.arange(len(data.target_names))\n",
    "plt.xticks(tick_marks, data.target_names, rotation=45)\n",
    "plt.yticks(tick_marks, data.target_names)\n",
    "plt.ylabel('True label')\n",
    "plt.xlabel('Predicted label')\n",
    "\n",
    "# Displaying the values inside the plot\n",
    "thresh = conf_matrix.max() / 2.\n",
    "for i in range(conf_matrix.shape[0]):\n",
    "    for j in range(conf_matrix.shape[1]):\n",
    "        plt.text(j, i, format(conf_matrix[i, j], 'd'),\n",
    "                 horizontalalignment=\"center\",\n",
    "                 color=\"white\" if conf_matrix[i, j] > thresh else \"black\")\n",
    "\n",
    "plt.tight_layout()\n",
    "plt.show()"
   ]
  },
  {
   "cell_type": "code",
   "execution_count": null,
   "metadata": {},
   "outputs": [],
   "source": []
  }
 ],
 "metadata": {
  "kernelspec": {
   "display_name": "Python 3",
   "language": "python",
   "name": "python3"
  },
  "language_info": {
   "codemirror_mode": {
    "name": "ipython",
    "version": 3
   },
   "file_extension": ".py",
   "mimetype": "text/x-python",
   "name": "python",
   "nbconvert_exporter": "python",
   "pygments_lexer": "ipython3",
   "version": "3.9.6"
  }
 },
 "nbformat": 4,
 "nbformat_minor": 2
}
